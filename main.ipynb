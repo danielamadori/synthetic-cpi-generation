{
 "cells": [
  {
   "cell_type": "code",
   "metadata": {},
   "source": [
    "import sys\n",
    "sys.path.append('sources')"
   ],
   "outputs": [],
   "execution_count": null
  },
  {
   "cell_type": "markdown",
   "metadata": {},
   "source": [
    "## Process Generation\n",
    "\n",
    "This notebook demonstrates how to generate and visualize a control process from a structured expression. The workflow includes:\n",
    "\n",
    "1. **Process String Generation**:\n",
    "   - Retrieves a process expression from pre-generated files\n",
    "   - Uses parameters `x` and `y` to specify complexity (max_nested_xor and max_independent_xor)\n",
    "   - Selects a specific process using line number `z`\n",
    "\n",
    "2. **CPI Translation**:\n",
    "   - Converts the process string into a Control Process Interface (CPI) dictionary\n",
    "   - Configurable parameters include:\n",
    "     - `choice_distribution`: Probability of XOR nodes being choices vs. nature nodes\n",
    "     - `duration_interval`: Range for task durations\n",
    "     - `num_impacts`: Number of impact metrics per task\n",
    "     - `vector_generation_mode`: Strategy for generating impact values"
   ]
  },
  {
   "cell_type": "code",
   "metadata": {},
   "source": [
    "# This script demonstrates how to generate a CPI structure from a process string\n",
    "\n",
    "from process_visualization import process_to_dot\n",
    "from IPython.display import display\n",
    "from graphviz import Source\n",
    "from generated_processes import get_process_from_file\n",
    "from generated_processes import translate_to_cpi\n",
    "import json\n",
    "\n",
    "# Read process from file - let's get the 3rd line (index 2)\n",
    "x, y = 2, 4  # max_nested_xor = 2, max_independent_xor = 4\n",
    "z = 3  # line number (1-based)\n",
    "process_str = get_process_from_file(x, y, z)\n",
    "print(f\"Process string: {process_str}\")\n",
    "\n",
    "# Set parameters for CPI translation\n",
    "params = {\n",
    "    \"choice_distribution\": 0.6,  # 60% chance of choice vs nature\n",
    "    \"duration_interval\": (2, 5),  # Task durations between 2 and 5\n",
    "    \"num_impacts\": 3,  # Generate 3 impacts per task\n",
    "    \"vector_generation_mode\": \"random\"  # Use random mode for impact generation\n",
    "}\n",
    "\n",
    "# Convert to CPI\n",
    "cpi_dict = translate_to_cpi(process_str, **params)\n",
    "\n",
    "# Display the CPI structure\n",
    "print(\"\\nGenerated CPI structure:\")\n",
    "print(json.dumps(cpi_dict, indent=2))\n",
    "\n",
    "# Visualize the process\n",
    "dot_graph = process_to_dot(cpi_dict)\n",
    "display(Source(dot_graph))"
   ],
   "outputs": [],
   "execution_count": null
  },
  {
   "cell_type": "markdown",
   "metadata": {},
   "source": [
    "\n",
    "# Generate CPI Bundles\n",
    "In this step, we'll generate Control Process Interface (CPI) bundles that efficiently store multiple process variations. Each bundle combines CPIs for a specific (x,y) pair with all their parameter combinations.\n",
    "\n",
    "## Parameter Space\n",
    "Default ranges for parameter combinations:\n",
    "- Process structure parameters (x, y from 1 to 10)\n",
    "- Process variations (z from 1 to 10)\n",
    "- Impact dimensions (1 to 10)\n",
    "- Choice distributions (0.1 to 0.9)\n",
    "- Generation modes:\n",
    "  - random\n",
    "  - bagging_divide\n",
    "  - bagging_remove\n",
    "  - bagging_remove_divide\n",
    "  - bagging_remove_reverse\n",
    "  - bagging_remove_reverse_divide\n",
    "- Fixed duration interval (1, 10)\n",
    "\n",
    "## Bundle Storage\n",
    "Generated bundles are stored in compressed format:\n",
    "- Location: 'CPIs' directory\n",
    "- File naming pattern: `cpi_bundle_x<x>_y<y>.cpis.gz`\n",
    "- Format: Gzipped JSON containing an array of CPI dictionaries\n",
    "- Each CPI includes metadata about its generation parameters\n"
   ]
  },
  {
   "cell_type": "code",
   "metadata": {},
   "source": [
    "# Generate CPI files\n",
    "\n",
    "from generate_cpi import generate_cpi_files_parametrized\n",
    "generate_cpi_files_parametrized()"
   ],
   "outputs": [],
   "execution_count": null
  },
  {
   "cell_type": "markdown",
   "metadata": {},
   "source": [
    "## Note\n",
    "The repository is self contained as source processes from the `generated_processes` folder are included, however these can be generated with custom preferences as explained in the GitHub repository: https://github.com/PietroSala/process-impact-benchmarks/main.ipynb"
   ]
  }
 ],
 "metadata": {
  "kernelspec": {
   "display_name": "automata_learning",
   "language": "python",
   "name": "python3"
  },
  "language_info": {
   "codemirror_mode": {
    "name": "ipython",
    "version": 3
   },
   "file_extension": ".py",
   "mimetype": "text/x-python",
   "name": "python",
   "nbconvert_exporter": "python",
   "pygments_lexer": "ipython3",
   "version": "3.10.14"
  }
 },
 "nbformat": 4,
 "nbformat_minor": 2
}
